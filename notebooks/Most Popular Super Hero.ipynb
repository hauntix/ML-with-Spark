{
 "cells": [
  {
   "cell_type": "markdown",
   "metadata": {},
   "source": [
    "## Input Data Format\n",
    "Marvel-Graph.txt: \\\n",
    "_A hero may span multiple lines!_\n",
    "\n",
    "    4395 2237 1767 472 4997 5931 6235 1478 1369 806 3994 6232 \n",
    "    3519 4704 2460 763 1602 5306 5358 6121 6160 2459 3173 4963 6166 \n",
    "    3518 5409 \n",
    "Marvel-Names.txt:\n",
    "    \n",
    "    5300 \"SPENCER, TRACY\"\n",
    "    5301 \"SPERZEL, ANTON\"\n",
    "    5302 \"SPETSBURO, GEN. YURI\"\n",
    "    5303 \"SPHINX\"\n",
    "    5304 \"SPHINX II\"\n",
    "    5305 \"SPHINX III\"\n",
    "    5306 \"SPIDER-MAN/PETER PAR\"\n",
    "    5307 \"SPIDER-MAN III/MARTH\"\n",
    "    5308 \"SPIDER-MAN CLONE/BEN\"\n",
    "    5309 \"SPIDER-WOMAN/JESSICA\"\n",
    "    \n",
    "## Most popular superhero: Strategy\n",
    "- Map input data to (heroID, number of co-occurences) per line\n",
    "- add up  co-occurence by heroID using reduceByKey()\n",
    "- flip (map) RDD to (number, heroID) so we can..\n",
    "- Use max() on the RDD to find the hero with the most co-occurences\n",
    "- Look up the name of the winner and display the result"
   ]
  },
  {
   "cell_type": "code",
   "execution_count": 1,
   "metadata": {},
   "outputs": [],
   "source": [
    "from pyspark import SparkContext\n",
    "\n",
    "sc = SparkContext(\"local\", \"PopularHero\")\n",
    "\n",
    "def countCoOccurences(line):\n",
    "    elements = line.split()\n",
    "    return (int(elements[0]), len(elements) - 1)\n",
    "\n",
    "def parseNames(line):\n",
    "    fields = line.split('\\\"')\n",
    "    return (int(fields[0]), fields[1].encode(\"utf8\"))"
   ]
  },
  {
   "cell_type": "code",
   "execution_count": 4,
   "metadata": {},
   "outputs": [
    {
     "name": "stdout",
     "output_type": "stream",
     "text": [
      "b'CAPTAIN AMERICA' is the most popular superhero, with 1933 co-appearances.\n"
     ]
    }
   ],
   "source": [
    "names = sc.textFile(\"../data/Marvel-Names.txt\")\n",
    "namesRdd = names.map(parseNames)\n",
    "\n",
    "lines = sc.textFile(\"../data/Marvel-Graph.txt\")\n",
    "\n",
    "pairings = lines.map(countCoOccurences)\n",
    "totalFriendsByCharacter = pairings.reduceByKey(lambda x, y : x + y)\n",
    "flipped = totalFriendsByCharacter.map(lambda xy : (xy[1], xy[0]))\n",
    "\n",
    "mostPopular = flipped.max()\n",
    "\n",
    "mostPopularName = namesRdd.lookup(mostPopular[1])[0]\n",
    "\n",
    "print(str(mostPopularName) + \" is the most popular superhero, with \" + \\\n",
    "    str(mostPopular[0]) + \" co-appearances.\")\n"
   ]
  },
  {
   "cell_type": "code",
   "execution_count": null,
   "metadata": {},
   "outputs": [],
   "source": []
  }
 ],
 "metadata": {
  "kernelspec": {
   "display_name": "Python 3",
   "language": "python",
   "name": "python3"
  },
  "language_info": {
   "codemirror_mode": {
    "name": "ipython",
    "version": 3
   },
   "file_extension": ".py",
   "mimetype": "text/x-python",
   "name": "python",
   "nbconvert_exporter": "python",
   "pygments_lexer": "ipython3",
   "version": "3.7.5"
  }
 },
 "nbformat": 4,
 "nbformat_minor": 2
}
