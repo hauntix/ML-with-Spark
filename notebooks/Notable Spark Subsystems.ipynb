{
 "cells": [
  {
   "cell_type": "markdown",
   "metadata": {},
   "source": [
    "# Other Notable Spark subsystems\n",
    "_Spark: Streaming, GraphX_\n",
    "\n",
    "## Spark Streaming\n",
    "- Analyzes continual streams of data\n",
    "    - Common example: processing log data from a website or server\n",
    "- Data is aggregated and analyzed at some given interval\n",
    "- Can take data fed to some port, Amazon Kinesis, HDFS, Kafka, Flume, and others\n",
    "- \"Checkpointing\" stores state to disk periodically for fault tolerance\n",
    "- A \"Dstream\" object breaks up the stream into distinct RDD's\n",
    "- Simple example (in Scala): \\\n",
    "    `val stream = new StreamingContext(conf, Seconds(1))`\\\n",
    "    `val lines = stream.socketTextStream(\"localhost\",8888)`\\\n",
    "    `val errors = lines.filter(_.contains(\"error\"))`\\\n",
    "    `error.print()`\n",
    "    \n",
    "    This listens to log data sent into port 8888, one second at a time, and prints out error lines. \n",
    "    \n",
    "    You need to kick off the job explicity: \n",
    "    \n",
    "    `stream.start()` \\\n",
    "    `stream.awaitTermination()`\n",
    "    \n",
    "    \n",
    "- Remember your RDD's only contain one little chunk of incoming data.\n",
    "- \"Windowed operations\" can combine results from multiple batches over some sliding time window\n",
    "    - See window(), reduceByWindow(), reduceByKeyAndWindow()\n",
    "- updateStateByKey()\n",
    "    - Let's you maintain a state across many batches as time goes on\n",
    "    - For example, running counts of some event\n",
    "\n",
    "## GraphX\n",
    "- Not that kind of graph ...\n",
    "- Graphs like our social network of superheroes - graphs in the computer science / network sense.\n",
    "- Python support is in the works, but  currently Scala-only.\n",
    "- However, it's only useful for specific things.\n",
    "    - It actually wouldn't have helped us that much with our \"degrees of seperation\" example\n",
    "    - But it can measure things like \"Connectedness\", degree distribution, average path length, triangle counts - high level measures of a graph\n",
    "    - It can also join graphs together and transform graphs quickly\n",
    "\n",
    "- Introduces VertexRDD and EdgeRDD\n",
    "- Otherwise"
   ]
  },
  {
   "cell_type": "code",
   "execution_count": null,
   "metadata": {},
   "outputs": [],
   "source": []
  }
 ],
 "metadata": {
  "kernelspec": {
   "display_name": "Python 3",
   "language": "python",
   "name": "python3"
  },
  "language_info": {
   "codemirror_mode": {
    "name": "ipython",
    "version": 3
   },
   "file_extension": ".py",
   "mimetype": "text/x-python",
   "name": "python",
   "nbconvert_exporter": "python",
   "pygments_lexer": "ipython3",
   "version": "3.7.5"
  }
 },
 "nbformat": 4,
 "nbformat_minor": 2
}
