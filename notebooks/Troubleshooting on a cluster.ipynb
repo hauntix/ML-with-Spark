{
 "cells": [
  {
   "cell_type": "markdown",
   "metadata": {},
   "source": [
    "# Troubleshooting cluster jobs\n",
    "- It is a dark art.\n",
    "- Your master will run a console on port 4040\n",
    "    - But in EMR, its next to impossible to actually connect to it from outside\n",
    "    - If you have your own cluster running on you own network, life's a little easier \n",
    "    \n",
    "- Logs\n",
    "    - In standalone mode, they're in the web UI\n",
    "    - In YARN though, the logs are distributed. You need to collect them after the fact using `yarn logs -applicationID <app id>`\n",
    "- While your driver script runs, it will log errors like executors failing to issue hearbeats\n",
    "    - This generally means you are asking too much of each executor\n",
    "    - You may need more of them - ie, more machines in your cluster\n",
    "    - Each executor may need more memory\n",
    "    - Or use partitionBy() to demand less work from individual executors by using smaller partitions\n",
    "    \n",
    "## Managing Dependencies\n",
    "- Remember you executors aren't necessarily on the same box as your driver script\n",
    "- Use broadcast variables to share data outside of RDD's\n",
    "- Need some Python package that's not pre-loaded on EMR?\n",
    "    - Set up a step in EMR to run pip for what you need on each worker machine\n",
    "    - Or use `-pyfiles` with `spark-submit` to add individual libraries that are on the master\n",
    "    - Try to just avoid using obscure packages you don't need in the first place. Time is money on your cluster, and your better off not fiddling with it."
   ]
  },
  {
   "cell_type": "code",
   "execution_count": null,
   "metadata": {},
   "outputs": [],
   "source": []
  }
 ],
 "metadata": {
  "kernelspec": {
   "display_name": "Python 3",
   "language": "python",
   "name": "python3"
  },
  "language_info": {
   "codemirror_mode": {
    "name": "ipython",
    "version": 3
   },
   "file_extension": ".py",
   "mimetype": "text/x-python",
   "name": "python",
   "nbconvert_exporter": "python",
   "pygments_lexer": "ipython3",
   "version": "3.7.5"
  }
 },
 "nbformat": 4,
 "nbformat_minor": 2
}
